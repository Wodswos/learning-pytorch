{
 "cells": [
  {
   "cell_type": "markdown",
   "metadata": {},
   "source": [
    "PyTorch 主模块也有提供很多功能……虽然还远没有 Tensor、Module 这些概念重要。"
   ]
  },
  {
   "cell_type": "code",
   "execution_count": 1,
   "metadata": {},
   "outputs": [
    {
     "data": {
      "text/plain": [
       "tensor([0.8654, 0.0211])"
      ]
     },
     "execution_count": 1,
     "metadata": {},
     "output_type": "execute_result"
    }
   ],
   "source": [
    "import torch\n",
    "\n",
    "a = torch.rand(2)\n",
    "a"
   ]
  },
  {
   "cell_type": "code",
   "execution_count": 9,
   "metadata": {},
   "outputs": [
    {
     "data": {
      "text/plain": [
       "(tensor([0.4933, 0.4933, 0.4933, 0.4933, 0.4933]),\n",
       " tensor([0.2460, 0.2460, 0.2460, 0.0950, 0.0950, 0.0950, 0.2524, 0.2524, 0.2524]))"
      ]
     },
     "execution_count": 9,
     "metadata": {},
     "output_type": "execute_result"
    }
   ],
   "source": [
    "# torch.repeat_interleave(input, repeats, dim=None, *, output_size=None)\n",
    "# This is different from torch.Tensor.repeat() but similar to numpy.repeat.\n",
    "# 用于在指定维度上对张量进行复制和重复操作。\n",
    "a = torch.repeat_interleave(torch.rand(1), 5)\n",
    "b = torch.repeat_interleave(torch.rand(3), 3)\n",
    "a, b"
   ]
  },
  {
   "cell_type": "code",
   "execution_count": null,
   "metadata": {},
   "outputs": [],
   "source": []
  }
 ],
 "metadata": {
  "kernelspec": {
   "display_name": "Python 3",
   "language": "python",
   "name": "python3"
  },
  "language_info": {
   "codemirror_mode": {
    "name": "ipython",
    "version": 3
   },
   "file_extension": ".py",
   "mimetype": "text/x-python",
   "name": "python",
   "nbconvert_exporter": "python",
   "pygments_lexer": "ipython3",
   "version": "3.9.18"
  }
 },
 "nbformat": 4,
 "nbformat_minor": 2
}
