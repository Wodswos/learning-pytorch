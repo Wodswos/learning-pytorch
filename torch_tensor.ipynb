{
 "cells": [
  {
   "cell_type": "markdown",
   "metadata": {},
   "source": []
  },
  {
   "cell_type": "code",
   "execution_count": 1,
   "metadata": {},
   "outputs": [],
   "source": [
    "import torch"
   ]
  },
  {
   "cell_type": "markdown",
   "metadata": {},
   "source": [
    "# Tensor 的形状"
   ]
  },
  {
   "cell_type": "code",
   "execution_count": 3,
   "metadata": {},
   "outputs": [
    {
     "data": {
      "text/plain": [
       "torch.Size([25, 2])"
      ]
     },
     "execution_count": 3,
     "metadata": {},
     "output_type": "execute_result"
    }
   ],
   "source": [
    "# Reshape\n",
    "# Tensor.reshape((dim1_size, dim2_size, ...))\n",
    "origin_tensor = torch.rand(10, 5)\n",
    "reshaped_tensor = origin_tensor.reshape(-1, 2)\n",
    "reshaped_tensor.shape\n",
    "# 可以剩一个维度不指定，用 -1 自动补齐\n",
    "# 如果 Tensor 的总大小 y 不能被已指定的那几个维度整除（如其中一个维度为x, y % x !=0），还指定了 -1 参数，会报错\n",
    "# RuntimeError: shape '[-1, x]' is invalid for input of size y"
   ]
  },
  {
   "cell_type": "code",
   "execution_count": 18,
   "metadata": {},
   "outputs": [
    {
     "name": "stdout",
     "output_type": "stream",
     "text": [
      "a: tensor([0.5519, 0.0298]) \n",
      "b: tensor([[0.8700, 0.6798],\n",
      "        [0.6304, 0.6992],\n",
      "        [0.4513, 0.4939]])\n",
      "tensor([[ 0.3182,  0.6500],\n",
      "        [ 0.0785,  0.6694],\n",
      "        [-0.1006,  0.4641]])\n"
     ]
    },
    {
     "data": {
      "text/plain": [
       "torch.Size([2, 3, 4])"
      ]
     },
     "execution_count": 18,
     "metadata": {},
     "output_type": "execute_result"
    }
   ],
   "source": [
    "# 不同 shape 之间的 Tensor 加减运算\n",
    "a = torch.rand(2)\n",
    "b = torch.rand(3, 2)\n",
    "\n",
    "print(f'a: {a} \\nb: {b}')\n",
    "print(b - a)\n",
    "\n",
    "# 观察结果可知，a 自动扩充了\n",
    "# 但如果 a = torch.rand(2, 3) 会报错 RuntimeError: The size of tensor a (3) must match the size of tensor b (2) at non-singleton dimension 1\n",
    "\n",
    "a = torch.ones((3, 4))\n",
    "b = torch.ones((2,3,4))\n",
    "(a + b).shape\n",
    "\n",
    "# 所以填充是填充前面的维度。"
   ]
  },
  {
   "cell_type": "code",
   "execution_count": 16,
   "metadata": {},
   "outputs": [
    {
     "data": {
      "text/plain": [
       "tensor([[[2., 2., 2., 2.],\n",
       "         [2., 2., 2., 2.],\n",
       "         [2., 2., 2., 2.]],\n",
       "\n",
       "        [[2., 2., 2., 2.],\n",
       "         [2., 2., 2., 2.],\n",
       "         [2., 2., 2., 2.]]])"
      ]
     },
     "execution_count": 16,
     "metadata": {},
     "output_type": "execute_result"
    }
   ],
   "source": [
    "# Tensor.view\n",
    "\n"
   ]
  },
  {
   "cell_type": "code",
   "execution_count": 29,
   "metadata": {},
   "outputs": [
    {
     "data": {
      "text/plain": [
       "torch.Size([3, 100, 2])"
      ]
     },
     "execution_count": 29,
     "metadata": {},
     "output_type": "execute_result"
    }
   ],
   "source": [
    "torch.matmul(torch.rand(3, 100, 4), torch.rand(4, 2)).shape"
   ]
  },
  {
   "cell_type": "code",
   "execution_count": 22,
   "metadata": {},
   "outputs": [
    {
     "data": {
      "text/plain": [
       "torch.Size([3, 4, 5])"
      ]
     },
     "execution_count": 22,
     "metadata": {},
     "output_type": "execute_result"
    }
   ],
   "source": [
    "(torch.rand(4, 5) * torch.rand(3, 4 ,5)).shape"
   ]
  },
  {
   "cell_type": "code",
   "execution_count": null,
   "metadata": {},
   "outputs": [],
   "source": []
  }
 ],
 "metadata": {
  "kernelspec": {
   "display_name": "Python 3",
   "language": "python",
   "name": "python3"
  },
  "language_info": {
   "codemirror_mode": {
    "name": "ipython",
    "version": 3
   },
   "file_extension": ".py",
   "mimetype": "text/x-python",
   "name": "python",
   "nbconvert_exporter": "python",
   "pygments_lexer": "ipython3",
   "version": "3.9.18"
  }
 },
 "nbformat": 4,
 "nbformat_minor": 2
}
